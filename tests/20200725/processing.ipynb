{
 "cells": [
  {
   "cell_type": "code",
   "execution_count": 47,
   "metadata": {},
   "outputs": [],
   "source": [
    "# https://eblot.github.io/pyftdi/pinout.html\n",
    "# ICE_RESET_FT = BDBUS7\n",
    "\n",
    "import pyftdi\n",
    "from pyftdi.spi import SpiController\n",
    "import time"
   ]
  },
  {
   "cell_type": "code",
   "execution_count": 18,
   "metadata": {},
   "outputs": [
    {
     "data": {
      "text/plain": [
       "bytearray(b'\\xff\\xff\\xff')"
      ]
     },
     "execution_count": 18,
     "metadata": {},
     "output_type": "execute_result"
    }
   ],
   "source": [
    "spi = SpiController()\n",
    "\n",
    "# Configure the first interface (IF/1) of the FTDI device as a SPI master\n",
    "spi.configure('ftdi://ftdi:2232h/1',cs_count=2)\n",
    "# Get a port to a SPI slave w/ /CS on A*BUS3 and SPI mode 0 @ 12MHz\n",
    "slave = spi.get_port(cs=0, freq=1E6, mode=2)\n",
    "\n",
    "# Request the JEDEC ID from the SPI slave\n",
    "jedec_id = slave.exchange([0x9f], 3)\n",
    "jedec_id"
   ]
  },
  {
   "cell_type": "code",
   "execution_count": 21,
   "metadata": {},
   "outputs": [
    {
     "data": {
      "text/plain": [
       "bytearray(b'\\xff\\xff\\xff')"
      ]
     },
     "execution_count": 21,
     "metadata": {},
     "output_type": "execute_result"
    }
   ],
   "source": [
    "spiBd = SpiController()\n",
    "\n",
    "# Configure the first interface (IF/1) of the FTDI device as a SPI master\n",
    "spiBd.configure('ftdi://ftdi:2232h/2',cs_count=1)\n",
    "gpio = spiBd.get_gpio()\n",
    "# Get a port to a SPI slave w/ /CS on A*BUS3 and SPI mode 0 @ 12MHz\n",
    "slaveBd = spiBd.get_port(cs=0, freq=1E6, mode=2)\n",
    "\n",
    "# Request the JEDEC ID from the SPI slave\n",
    "jedec_id = slaveBd.exchange([0x9f], 3)\n",
    "jedec_id"
   ]
  },
  {
   "cell_type": "code",
   "execution_count": 48,
   "metadata": {},
   "outputs": [],
   "source": [
    "# Get GPIO port to manage extra pins, use A*BUS4 as GPO, A*BUS4 as GPI\n",
    "\n",
    "gpio.set_direction(240, 240) \n",
    "# Assert GPO pin\n",
    "gpio.write(240) \n",
    "time.sleep(1)\n",
    "# Release GPO pin\n",
    "gpio.write(0x00)\n",
    "# Test GPI pin\n",
    "pin = bin(bool(gpio.read() & 0x20))"
   ]
  },
  {
   "cell_type": "code",
   "execution_count": 45,
   "metadata": {},
   "outputs": [
    {
     "data": {
      "text/plain": [
       "0"
      ]
     },
     "execution_count": 45,
     "metadata": {},
     "output_type": "execute_result"
    }
   ],
   "source": [
    "gpio.read()"
   ]
  },
  {
   "cell_type": "code",
   "execution_count": 44,
   "metadata": {},
   "outputs": [
    {
     "data": {
      "text/plain": [
       "'0b100000'"
      ]
     },
     "execution_count": 44,
     "metadata": {},
     "output_type": "execute_result"
    }
   ],
   "source": [
    "bin(0x20)"
   ]
  },
  {
   "cell_type": "code",
   "execution_count": 39,
   "metadata": {},
   "outputs": [
    {
     "data": {
      "text/plain": [
       "240"
      ]
     },
     "execution_count": 39,
     "metadata": {},
     "output_type": "execute_result"
    }
   ],
   "source": [
    "0b11110000"
   ]
  },
  {
   "cell_type": "code",
   "execution_count": null,
   "metadata": {},
   "outputs": [],
   "source": []
  }
 ],
 "metadata": {
  "kernelspec": {
   "display_name": "Python 3",
   "language": "python",
   "name": "python3"
  },
  "language_info": {
   "codemirror_mode": {
    "name": "ipython",
    "version": 3
   },
   "file_extension": ".py",
   "mimetype": "text/x-python",
   "name": "python",
   "nbconvert_exporter": "python",
   "pygments_lexer": "ipython3",
   "version": "3.6.9"
  }
 },
 "nbformat": 4,
 "nbformat_minor": 4
}
